{
 "cells": [
  {
   "cell_type": "markdown",
   "id": "aee381bf-410c-43b4-8a53-44182ea6bddc",
   "metadata": {},
   "source": [
    "### Python script For Cleansing Product Dataset\n",
    "- This script will remove the non_alphanumeric(i.e must be both Letters and numbers)"
   ]
  },
  {
   "cell_type": "code",
   "execution_count": 13,
   "id": "84615182-87bd-4bfb-945e-6367849ab088",
   "metadata": {},
   "outputs": [
    {
     "name": "stdout",
     "output_type": "stream",
     "text": [
      "Cleaned data exported to C:\\Users\\folas\\Downloads\\Clean_ProductsFile.xlsx\n"
     ]
    }
   ],
   "source": [
    "import pandas as pd\n",
    "import re\n",
    "\n",
    "input_file = r\"C:\\Users\\folas\\Downloads\\ProductsFile.xlsx\"\n",
    "output_file = r\"C:\\Users\\folas\\Downloads\\Clean_ProductsFile.xlsx\"  # Output file\n",
    "\n",
    "\n",
    "# Load the Excel file\n",
    "df = pd.read_excel(input_file)\n",
    "\n",
    "# functions created to check if value is alphanumeric\n",
    "def is_valid_alphanumeric(value):\n",
    "    return bool(re.search(r'[A-Za-z]', value) and re.search(r'\\d', value))\n",
    "\n",
    "# Define function to detect structured patterns like \"SD-PT-3P-BUL\"\n",
    "def is_invalid_pattern(value):\n",
    "    return bool(re.fullmatch(r'[A-Za-z]+(-[A-Za-z0-9]+)+', value))\n",
    "\n",
    "# Apply filtering conditions\n",
    "df_filtered = df[df['Inventory ID'].astype(str).apply(lambda x: is_valid_alphanumeric(x) and not is_invalid_pattern(x))]\n",
    "\n",
    "# Save the cleaned data\n",
    "df_filtered.to_excel(output_file, index=False)\n",
    "\n",
    "print(f\"Cleaned data exported to {output_file}\")"
   ]
  },
  {
   "cell_type": "code",
   "execution_count": null,
   "id": "5e58ed1c-eb22-48ec-aa90-65e1b87051da",
   "metadata": {},
   "outputs": [],
   "source": []
  }
 ],
 "metadata": {
  "kernelspec": {
   "display_name": "Python 3 (ipykernel)",
   "language": "python",
   "name": "python3"
  },
  "language_info": {
   "codemirror_mode": {
    "name": "ipython",
    "version": 3
   },
   "file_extension": ".py",
   "mimetype": "text/x-python",
   "name": "python",
   "nbconvert_exporter": "python",
   "pygments_lexer": "ipython3",
   "version": "3.12.7"
  }
 },
 "nbformat": 4,
 "nbformat_minor": 5
}
